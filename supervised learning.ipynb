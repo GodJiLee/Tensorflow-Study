{
  "nbformat": 4,
  "nbformat_minor": 0,
  "metadata": {
    "colab": {
      "name": "7/15 책터디.ipynb",
      "provenance": [],
      "collapsed_sections": []
    },
    "kernelspec": {
      "name": "python3",
      "display_name": "Python 3"
    },
    "language_info": {
      "name": "python"
    }
  },
  "cells": [
    {
      "cell_type": "markdown",
      "metadata": {
        "id": "EoEknCgw5fhe"
      },
      "source": [
        "# **Chapter 3. 머신러닝 핵심 알고리즘**\n",
        "## **3.1 지도학습**   \n",
        "\n",
        "|구분|분류|회귀|\n",
        "|------|---|---|\n",
        "|데이터 유형|이산형 데이터|연속형 데이터|\n",
        "|결과|훈련 데이터의 레이블 중 하나를 예측|연속된 값을 예측|\n",
        "|예시|학습 데이터를 A, B, C 그룹 중 하나로 매핑|결과값이 어떤 값이든 나올 수 있음|\n",
        "|    | ex. 스팸 메일 필터링|ex. 주가 분석 예측|   \n",
        "\n",
        "\n",
        "<img src = \"KakaoTalk_20210715_022900876.jpg\">\n",
        "\n",
        "\n",
        "### **3.1.1 K-최근접 이웃**\n",
        "* **분류**문제로 직관적이며 사용하기 쉬움\n",
        "* 데이터를 충분히 확보할 수 있을 때 사용\n",
        "\n",
        "> 데이터 간의 거리를 **미리** 측정해둔 뒤, 새로운 데이터에 대해 분류작업\n"
      ]
    },
    {
      "cell_type": "code",
      "metadata": {
        "id": "jZ6L2t9b5c0h"
      },
      "source": [
        "# 라이브러리 호출 및 데이터 준비\n",
        "import numpy as np\n",
        "import matplotlib.pyplot as plt\n",
        "import pandas as pd\n",
        "from sklearn import metrics # 모델의 성능 평가\n",
        "\n",
        "# 열 이름 할당\n",
        "names = ['sepal-length', 'sepal-width', 'petal-length', 'petal-width', 'Class'] \n",
        "\n",
        "# 데이터를 판다스 데이터프레임으로 저장\n",
        "dataset = pd.read_csv('/content/drive/MyDrive/Colab Notebooks/chap3/data/iris.data', names = names)"
      ],
      "execution_count": null,
      "outputs": []
    },
    {
      "cell_type": "code",
      "metadata": {
        "colab": {
          "base_uri": "https://localhost:8080/",
          "height": 376
        },
        "id": "B_nQze7BHHjZ",
        "outputId": "ebdf4dce-c79c-4cc2-e92e-01fbe1d6be29"
      },
      "source": [
        "# 훈련과 검증 데이터셋 분리\n",
        "X = dataset.iloc[:, :-1].values # 모든 행 사용, 열은 뒤에서 하나만 제거\n",
        "y = dataset.iloc[:, 4].values # 모든 행 사용, 열은 앞에서 다섯번째 값만 사용\n",
        "\n",
        "from sklearn.model_selection import train_test_split\n",
        "X_train, X_test, y_train, y_test = train_test_split(X, y, test_size = 0.20) # 검증 세트의 비율은 20%\n",
        "\n",
        "from sklearn.preprocessing import StandardScaler\n",
        "s = StandardScaler() # 특성 스케일링 (평균 0, 표준편차 1)\n",
        "# 스케일링 적용\n",
        "X_train = s.transform(X_train)\n",
        "X_test = s.transform(X_test)"
      ],
      "execution_count": null,
      "outputs": [
        {
          "output_type": "error",
          "ename": "NotFittedError",
          "evalue": "ignored",
          "traceback": [
            "\u001b[0;31m---------------------------------------------------------------------------\u001b[0m",
            "\u001b[0;31mNotFittedError\u001b[0m                            Traceback (most recent call last)",
            "\u001b[0;32m<ipython-input-11-ff7eefa1b648>\u001b[0m in \u001b[0;36m<module>\u001b[0;34m()\u001b[0m\n\u001b[1;32m      9\u001b[0m \u001b[0ms\u001b[0m \u001b[0;34m=\u001b[0m \u001b[0mStandardScaler\u001b[0m\u001b[0;34m(\u001b[0m\u001b[0;34m)\u001b[0m \u001b[0;31m# 특성 스케일링 (평균 0, 표준편차 1)\u001b[0m\u001b[0;34m\u001b[0m\u001b[0;34m\u001b[0m\u001b[0m\n\u001b[1;32m     10\u001b[0m \u001b[0;31m# 스케일링 적용\u001b[0m\u001b[0;34m\u001b[0m\u001b[0;34m\u001b[0m\u001b[0;34m\u001b[0m\u001b[0m\n\u001b[0;32m---> 11\u001b[0;31m \u001b[0mX_train\u001b[0m \u001b[0;34m=\u001b[0m \u001b[0ms\u001b[0m\u001b[0;34m.\u001b[0m\u001b[0mtransform\u001b[0m\u001b[0;34m(\u001b[0m\u001b[0mX_train\u001b[0m\u001b[0;34m)\u001b[0m\u001b[0;34m\u001b[0m\u001b[0;34m\u001b[0m\u001b[0m\n\u001b[0m\u001b[1;32m     12\u001b[0m \u001b[0mX_test\u001b[0m \u001b[0;34m=\u001b[0m \u001b[0ms\u001b[0m\u001b[0;34m.\u001b[0m\u001b[0mtransform\u001b[0m\u001b[0;34m(\u001b[0m\u001b[0mX_test\u001b[0m\u001b[0;34m)\u001b[0m\u001b[0;34m\u001b[0m\u001b[0;34m\u001b[0m\u001b[0m\n",
            "\u001b[0;32m/usr/local/lib/python3.7/dist-packages/sklearn/preprocessing/_data.py\u001b[0m in \u001b[0;36mtransform\u001b[0;34m(self, X, copy)\u001b[0m\n\u001b[1;32m    788\u001b[0m             \u001b[0mCopy\u001b[0m \u001b[0mthe\u001b[0m \u001b[0minput\u001b[0m \u001b[0mX\u001b[0m \u001b[0;32mor\u001b[0m \u001b[0;32mnot\u001b[0m\u001b[0;34m.\u001b[0m\u001b[0;34m\u001b[0m\u001b[0;34m\u001b[0m\u001b[0m\n\u001b[1;32m    789\u001b[0m         \"\"\"\n\u001b[0;32m--> 790\u001b[0;31m         \u001b[0mcheck_is_fitted\u001b[0m\u001b[0;34m(\u001b[0m\u001b[0mself\u001b[0m\u001b[0;34m)\u001b[0m\u001b[0;34m\u001b[0m\u001b[0;34m\u001b[0m\u001b[0m\n\u001b[0m\u001b[1;32m    791\u001b[0m \u001b[0;34m\u001b[0m\u001b[0m\n\u001b[1;32m    792\u001b[0m         \u001b[0mcopy\u001b[0m \u001b[0;34m=\u001b[0m \u001b[0mcopy\u001b[0m \u001b[0;32mif\u001b[0m \u001b[0mcopy\u001b[0m \u001b[0;32mis\u001b[0m \u001b[0;32mnot\u001b[0m \u001b[0;32mNone\u001b[0m \u001b[0;32melse\u001b[0m \u001b[0mself\u001b[0m\u001b[0;34m.\u001b[0m\u001b[0mcopy\u001b[0m\u001b[0;34m\u001b[0m\u001b[0;34m\u001b[0m\u001b[0m\n",
            "\u001b[0;32m/usr/local/lib/python3.7/dist-packages/sklearn/utils/validation.py\u001b[0m in \u001b[0;36mcheck_is_fitted\u001b[0;34m(estimator, attributes, msg, all_or_any)\u001b[0m\n\u001b[1;32m    965\u001b[0m \u001b[0;34m\u001b[0m\u001b[0m\n\u001b[1;32m    966\u001b[0m     \u001b[0;32mif\u001b[0m \u001b[0;32mnot\u001b[0m \u001b[0mattrs\u001b[0m\u001b[0;34m:\u001b[0m\u001b[0;34m\u001b[0m\u001b[0;34m\u001b[0m\u001b[0m\n\u001b[0;32m--> 967\u001b[0;31m         \u001b[0;32mraise\u001b[0m \u001b[0mNotFittedError\u001b[0m\u001b[0;34m(\u001b[0m\u001b[0mmsg\u001b[0m \u001b[0;34m%\u001b[0m \u001b[0;34m{\u001b[0m\u001b[0;34m'name'\u001b[0m\u001b[0;34m:\u001b[0m \u001b[0mtype\u001b[0m\u001b[0;34m(\u001b[0m\u001b[0mestimator\u001b[0m\u001b[0;34m)\u001b[0m\u001b[0;34m.\u001b[0m\u001b[0m__name__\u001b[0m\u001b[0;34m}\u001b[0m\u001b[0;34m)\u001b[0m\u001b[0;34m\u001b[0m\u001b[0;34m\u001b[0m\u001b[0m\n\u001b[0m\u001b[1;32m    968\u001b[0m \u001b[0;34m\u001b[0m\u001b[0m\n\u001b[1;32m    969\u001b[0m \u001b[0;34m\u001b[0m\u001b[0m\n",
            "\u001b[0;31mNotFittedError\u001b[0m: This StandardScaler instance is not fitted yet. Call 'fit' with appropriate arguments before using this estimator."
          ]
        }
      ]
    },
    {
      "cell_type": "code",
      "metadata": {
        "colab": {
          "base_uri": "https://localhost:8080/"
        },
        "id": "ZYXGE6DyJtFL",
        "outputId": "8fb820ee-a000-4e6a-e76e-7911a57a749d"
      },
      "source": [
        "# 모델 생성 및 훈련\n",
        "from sklearn.neighbors import KNeighborsClassifier\n",
        "knn = KNeighborsClassifier(n_neighbors = 50) # K=50인 K-최근접 이웃모델 생성\n",
        "knn.fit(X_train, y_train)"
      ],
      "execution_count": null,
      "outputs": [
        {
          "output_type": "execute_result",
          "data": {
            "text/plain": [
              "KNeighborsClassifier(algorithm='auto', leaf_size=30, metric='minkowski',\n",
              "                     metric_params=None, n_jobs=None, n_neighbors=50, p=2,\n",
              "                     weights='uniform')"
            ]
          },
          "metadata": {
            "tags": []
          },
          "execution_count": 12
        }
      ]
    },
    {
      "cell_type": "code",
      "metadata": {
        "colab": {
          "base_uri": "https://localhost:8080/"
        },
        "id": "EDaiEIBSKbWO",
        "outputId": "2ad05e86-ee1b-4651-b174-e4d770c86e2f"
      },
      "source": [
        "# 모델 정확도\n",
        "from sklearn.metrics import accuracy_score\n",
        "y_pred = knn.predict(X_test)\n",
        "print('정확도: {}'.format(accuracy_score(y_test, y_pred)))"
      ],
      "execution_count": null,
      "outputs": [
        {
          "output_type": "stream",
          "text": [
            "정확도: 0.8666666666666667\n"
          ],
          "name": "stdout"
        }
      ]
    },
    {
      "cell_type": "code",
      "metadata": {
        "colab": {
          "base_uri": "https://localhost:8080/"
        },
        "id": "QFB8GuoPLmYO",
        "outputId": "e3bb663a-563a-4e71-ddca-8c0991a2a6c6"
      },
      "source": [
        "# 최적의 K 찾기\n",
        "k = 10\n",
        "acc_array = np.zeros(k)\n",
        "for k in np.arange(1, k+1, 1):\n",
        "    classifier = KNeighborsClassifier(n_neighbors=k).fit(X_train, y_train)\n",
        "    y_pred = classifier.predict(X_test)\n",
        "    acc = metrics.accuracy_score(y_test, y_pred)\n",
        "    acc_array[k-1] = acc\n",
        "\n",
        "max_acc = np.amax(acc_array)\n",
        "acc_list = list(acc_array)\n",
        "k = acc_list.index(max_acc)\n",
        "print('정확도', max_acc, '으로 최적의 k는', k+1, '입니다.')    "
      ],
      "execution_count": null,
      "outputs": [
        {
          "output_type": "stream",
          "text": [
            "정확도 0.9666666666666667 으로 최적의 k는 1 입니다.\n"
          ],
          "name": "stdout"
        }
      ]
    },
    {
      "cell_type": "markdown",
      "metadata": {
        "id": "g48umNNvQOmB"
      },
      "source": [
        "### **3.1.2 서포트 벡터 머신**\n",
        "* 분류 모델로, 커널만 적절히 선택하면 정확도가 상당히 좋은 모델\n",
        "* 텍스트 분류에 자주 사용됨\n",
        "> 결정 경계와 서포트 벡터 사이의 거리(마진)이 멀수록 성능이 좋음\n",
        "> * *서포트 벡터*: 결정 경계와 가까이 있는 데이터들\n",
        "\n",
        "따라서, 결국 이상치를 잘 다루는 것이 중요함\n",
        "* 이상치를 허용하지 않는 하드마진과,\n",
        "* 어느 정도의 이상치들을 마진 안에 포함하는 소프트 마진이 있음\n"
      ]
    },
    {
      "cell_type": "code",
      "metadata": {
        "id": "xnNxbs99QHUv"
      },
      "source": [
        "# 라이브러리 호출\n",
        "from sklearn import svm\n",
        "from sklearn import metrics\n",
        "from sklearn import datasets\n",
        "from sklearn import model_selection\n",
        "import tensorflow as tf\n",
        "import os\n",
        "\n",
        "# 로깅을 제어 (기본값은 0, 모든 로그가 표시)\n",
        "os.environ['TF_CPP_MIN_LOG_LEVEL'] = '3'"
      ],
      "execution_count": null,
      "outputs": []
    },
    {
      "cell_type": "code",
      "metadata": {
        "id": "92g3zZT4WzSF"
      },
      "source": [
        "# iris 데이터를 준비하고 훈련/검증 데이터셋으로 분리\n",
        "iris = datasets.load_iris() # 사이킷런에서 제공하는 데이터셋\n",
        "X_train, X_test, y_train, y_test = model_selection.train_test_split(iris.data,\n",
        "                                                                    iris.target,\n",
        "                                                                    test_size = 0.6,\n",
        "                                                                    random_state = 42)"
      ],
      "execution_count": null,
      "outputs": []
    },
    {
      "cell_type": "code",
      "metadata": {
        "colab": {
          "base_uri": "https://localhost:8080/",
          "height": 244
        },
        "id": "JnYCUFCaatCN",
        "outputId": "31a467da-547f-4f6a-b618-8e291fe0c753"
      },
      "source": [
        "# SVM 모델에 대한 정확도\n",
        "svm = svm.SVC(kernel = 'linear', C = 1.0, gamma = 0.5)\n",
        "svm.fit(X_train, y_train) \n",
        "predictions = svm.predict(X_test)\n",
        "score = metrics.accuracy_score(y_test, predictions)\n",
        "print('정확도: {0:f}'.format(score))"
      ],
      "execution_count": null,
      "outputs": [
        {
          "output_type": "error",
          "ename": "AttributeError",
          "evalue": "ignored",
          "traceback": [
            "\u001b[0;31m---------------------------------------------------------------------------\u001b[0m",
            "\u001b[0;31mAttributeError\u001b[0m                            Traceback (most recent call last)",
            "\u001b[0;32m<ipython-input-22-095efe370e94>\u001b[0m in \u001b[0;36m<module>\u001b[0;34m()\u001b[0m\n\u001b[1;32m      1\u001b[0m \u001b[0;31m# SVM 모델에 대한 정확도\u001b[0m\u001b[0;34m\u001b[0m\u001b[0;34m\u001b[0m\u001b[0;34m\u001b[0m\u001b[0m\n\u001b[0;32m----> 2\u001b[0;31m \u001b[0msvm\u001b[0m \u001b[0;34m=\u001b[0m \u001b[0msvm\u001b[0m\u001b[0;34m.\u001b[0m\u001b[0mSVC\u001b[0m\u001b[0;34m(\u001b[0m\u001b[0mkernel\u001b[0m \u001b[0;34m=\u001b[0m \u001b[0;34m'linear'\u001b[0m\u001b[0;34m,\u001b[0m \u001b[0mC\u001b[0m \u001b[0;34m=\u001b[0m \u001b[0;36m1.0\u001b[0m\u001b[0;34m,\u001b[0m \u001b[0mgamma\u001b[0m \u001b[0;34m=\u001b[0m \u001b[0;36m0.5\u001b[0m\u001b[0;34m)\u001b[0m\u001b[0;34m\u001b[0m\u001b[0;34m\u001b[0m\u001b[0m\n\u001b[0m\u001b[1;32m      3\u001b[0m \u001b[0msvm\u001b[0m\u001b[0;34m.\u001b[0m\u001b[0mfit\u001b[0m\u001b[0;34m(\u001b[0m\u001b[0mX_train\u001b[0m\u001b[0;34m,\u001b[0m \u001b[0my_train\u001b[0m\u001b[0;34m)\u001b[0m\u001b[0;34m\u001b[0m\u001b[0;34m\u001b[0m\u001b[0m\n\u001b[1;32m      4\u001b[0m \u001b[0mpredictions\u001b[0m \u001b[0;34m=\u001b[0m \u001b[0msvm\u001b[0m\u001b[0;34m.\u001b[0m\u001b[0mpredict\u001b[0m\u001b[0;34m(\u001b[0m\u001b[0mX_test\u001b[0m\u001b[0;34m)\u001b[0m\u001b[0;34m\u001b[0m\u001b[0;34m\u001b[0m\u001b[0m\n\u001b[1;32m      5\u001b[0m \u001b[0mscore\u001b[0m \u001b[0;34m=\u001b[0m \u001b[0mmetrics\u001b[0m\u001b[0;34m.\u001b[0m\u001b[0maccuracy_score\u001b[0m\u001b[0;34m(\u001b[0m\u001b[0my_test\u001b[0m\u001b[0;34m,\u001b[0m \u001b[0mpredictions\u001b[0m\u001b[0;34m)\u001b[0m\u001b[0;34m\u001b[0m\u001b[0;34m\u001b[0m\u001b[0m\n",
            "\u001b[0;31mAttributeError\u001b[0m: 'SVC' object has no attribute 'SVC'"
          ]
        }
      ]
    },
    {
      "cell_type": "markdown",
      "metadata": {
        "id": "lP5c75k8co2g"
      },
      "source": [
        "SVM은 선형/비선형 분류를 지원함\n",
        "> 비선형 문제는 저차원 데이터를 고차원으로 보내는 것으로 해결될 수 있지만, 특성의 개수가 늘어남에 따라 성능에 문제가 생길 수 있음\n",
        ">> 이를 해결하고자 커널 트릭 (kernel trick) 도입\n",
        "\n",
        "* 선형 커널(linear kernel): 선형으로 분류가 가능한 데이터에 적용함\n",
        "* 가우시안 RBF 커널: 실제로 특성을 추가하지 않으면서도 다항식 특성을 많이 추가한 것과 같은 효과를 얻어 고차원으로 데이터 매핑이 가능 \n",
        "* 다항식 커널: 다항식 커널의 확장 버전, 입력 벡터를 차원이 무한한 고차원으로 매핑함 (차수에 제한 X)\n",
        "\n",
        "**C 값**은 오류를 어느 정도 허용할지 결정, 클수록 하드마진/ 작을수록 소프트마진   \n",
        "**감마(gamma)**는 결정경계를 얼마나 유연하게 가져갈지 결정, 클수록 결정경계가 곡선을 띄며 과적합의 위험이 있음"
      ]
    },
    {
      "cell_type": "markdown",
      "metadata": {
        "id": "m3d6CFeKhmpO"
      },
      "source": [
        "### **3.1.3 결정 트리**\n",
        "* 데이터 분류 문제로, 이상치가 많은 데이터셋에 사용하기 좋음\n",
        "* 시각화가 가능하기 때문에 의사결정의 과정을 직접 살펴볼 수 있어 유용함\n",
        "\n",
        "> 분류할수록 순도는 높아지고, 불순도 및 불확실성은 낮아짐 (정보획득)\n",
        ">> 순도와 불순도   \n",
        ">> ~~\n",
        "\n",
        "* **불순도 계산 방법**\n",
        "1. 엔트로피 (entropy)\n",
        "> 불확실성을 수치화한 지표로, 이 수치가 높을수록 불확실성이 높은 것\n",
        ">> 계산식: ~~\n",
        "2. 지니계수 (Gini Index)\n",
        "> 불순도를 측정하는 지표, 통계적 분산 정도를 정랼화해 표현한 값   \n",
        "> 원소 n개 중에서 임의로 2개 추출시 이 값들이 서로 다른 그룹에 속해 있을 확률\n",
        ">> 계산식: ~~   \n",
        ">> 로그 계산을 할 필요가 없어 계산이 빠름\n"
      ]
    },
    {
      "cell_type": "code",
      "metadata": {
        "id": "2awx61dma_12",
        "colab": {
          "base_uri": "https://localhost:8080/",
          "height": 0
        },
        "outputId": "8fd04336-2401-400e-d6d3-cc678d5a147c"
      },
      "source": [
        "# 라이브러리 호출 및 데이터 준비\n",
        "import pandas as pd\n",
        "df = pd.read_csv('/content/drive/MyDrive/Colab Notebooks/chap3/data/titanic/train.csv', index_col = 'PassengerId')\n",
        "print(df.head())"
      ],
      "execution_count": 1,
      "outputs": [
        {
          "output_type": "stream",
          "text": [
            "             Survived  Pclass  ... Cabin Embarked\n",
            "PassengerId                    ...               \n",
            "1                   0       3  ...   NaN        S\n",
            "2                   1       1  ...   C85        C\n",
            "3                   1       3  ...   NaN        S\n",
            "4                   1       1  ...  C123        S\n",
            "5                   0       3  ...   NaN        S\n",
            "\n",
            "[5 rows x 11 columns]\n"
          ],
          "name": "stdout"
        }
      ]
    },
    {
      "cell_type": "code",
      "metadata": {
        "id": "GQ-sp-1Yncok"
      },
      "source": [
        "# 데이터 전처리\n",
        "# 전체 데이터셋 중 필요한 열만 선택\n",
        "df = df[['Pclass', 'Sex', 'Age', 'SibSp', 'Parch', 'Fare', 'Survived']]\n",
        "df['Sex'] = df['Sex'].map({'male': 0, 'female': 1}) # 범주형 변수인 성별을 정수형으로 변환\n",
        "df = df.dropna() # na 삭제\n",
        "X = df.drop('Survived', axis = 1) # 열 삭제\n",
        "y = df['Survived'] # 'Survived' 값을 예측 레이블로 사용"
      ],
      "execution_count": 3,
      "outputs": []
    },
    {
      "cell_type": "code",
      "metadata": {
        "id": "X-5viivpophp"
      },
      "source": [
        "# 훈련과 검증 데이터셋으로 분리\n",
        "from sklearn.model_selection import train_test_split\n",
        "X_train, X_test, y_train, y_test = train_test_split(X, y, random_state = 1)"
      ],
      "execution_count": 4,
      "outputs": []
    },
    {
      "cell_type": "code",
      "metadata": {
        "id": "0HVZtoTbo4hh"
      },
      "source": [
        "# 결정 트리 모델 생성\n",
        "from sklearn import tree\n",
        "model = tree.DecisionTreeClassifier()"
      ],
      "execution_count": 5,
      "outputs": []
    },
    {
      "cell_type": "code",
      "metadata": {
        "colab": {
          "base_uri": "https://localhost:8080/",
          "height": 0
        },
        "id": "LU-5KH5-pAWW",
        "outputId": "74ee3dfc-9dbf-45f0-b954-6c7019791e03"
      },
      "source": [
        "# 모델 훈련\n",
        "model.fit(X_train, y_train)"
      ],
      "execution_count": 6,
      "outputs": [
        {
          "output_type": "execute_result",
          "data": {
            "text/plain": [
              "DecisionTreeClassifier(ccp_alpha=0.0, class_weight=None, criterion='gini',\n",
              "                       max_depth=None, max_features=None, max_leaf_nodes=None,\n",
              "                       min_impurity_decrease=0.0, min_impurity_split=None,\n",
              "                       min_samples_leaf=1, min_samples_split=2,\n",
              "                       min_weight_fraction_leaf=0.0, presort='deprecated',\n",
              "                       random_state=None, splitter='best')"
            ]
          },
          "metadata": {
            "tags": []
          },
          "execution_count": 6
        }
      ]
    },
    {
      "cell_type": "code",
      "metadata": {
        "colab": {
          "base_uri": "https://localhost:8080/",
          "height": 0
        },
        "id": "mTGSTSd6pWxm",
        "outputId": "f6102ffe-26bc-4052-d479-d6f745c4793b"
      },
      "source": [
        "# 모델 예측\n",
        "y_predict = model.predict(X_test)\n",
        "from sklearn.metrics import accuracy_score\n",
        "accuracy_score(y_test, y_predict) # 실제값과 예측값 간의 정확도 점수"
      ],
      "execution_count": 7,
      "outputs": [
        {
          "output_type": "execute_result",
          "data": {
            "text/plain": [
              "0.8268156424581006"
            ]
          },
          "metadata": {
            "tags": []
          },
          "execution_count": 7
        }
      ]
    },
    {
      "cell_type": "code",
      "metadata": {
        "colab": {
          "base_uri": "https://localhost:8080/",
          "height": 111
        },
        "id": "y2hnkFWspklf",
        "outputId": "ea586689-f0a6-44be-f5b4-ad578fdd0288"
      },
      "source": [
        "# 혼동 행렬을 이용한 성능 측정\n",
        "from sklearn.metrics import confusion_matrix\n",
        "pd.DataFrame(\n",
        "    confusion_matrix(y_test, y_predict),\n",
        "    columns = ['Predicted Not Survival', 'Predicted Survival'],\n",
        "    index = ['True Not Survival', 'True Survival']\n",
        ")"
      ],
      "execution_count": 10,
      "outputs": [
        {
          "output_type": "execute_result",
          "data": {
            "text/html": [
              "<div>\n",
              "<style scoped>\n",
              "    .dataframe tbody tr th:only-of-type {\n",
              "        vertical-align: middle;\n",
              "    }\n",
              "\n",
              "    .dataframe tbody tr th {\n",
              "        vertical-align: top;\n",
              "    }\n",
              "\n",
              "    .dataframe thead th {\n",
              "        text-align: right;\n",
              "    }\n",
              "</style>\n",
              "<table border=\"1\" class=\"dataframe\">\n",
              "  <thead>\n",
              "    <tr style=\"text-align: right;\">\n",
              "      <th></th>\n",
              "      <th>Predicted Not Survival</th>\n",
              "      <th>Predicted Survival</th>\n",
              "    </tr>\n",
              "  </thead>\n",
              "  <tbody>\n",
              "    <tr>\n",
              "      <th>True Not Survival</th>\n",
              "      <td>98</td>\n",
              "      <td>14</td>\n",
              "    </tr>\n",
              "    <tr>\n",
              "      <th>True Survival</th>\n",
              "      <td>17</td>\n",
              "      <td>50</td>\n",
              "    </tr>\n",
              "  </tbody>\n",
              "</table>\n",
              "</div>"
            ],
            "text/plain": [
              "                   Predicted Not Survival  Predicted Survival\n",
              "True Not Survival                      98                  14\n",
              "True Survival                          17                  50"
            ]
          },
          "metadata": {
            "tags": []
          },
          "execution_count": 10
        }
      ]
    },
    {
      "cell_type": "markdown",
      "metadata": {
        "id": "1Sp-GMFbqOMd"
      },
      "source": [
        "* **혼동행렬**\n",
        "> 알고리즘 성능 평가에 사용됨   \n",
        "> 2장에서 다룬 것과 같이 TP, TN, FP, FN으로부터 정밀도, 재현율, 정확도와 같은 지표를 얻을 수 있음"
      ]
    },
    {
      "cell_type": "markdown",
      "metadata": {
        "id": "1WWj7V4jrB_h"
      },
      "source": [
        "### **3.1.4 로지스틱 회귀와 선형 회귀**\n",
        "* **독립 변수 (예측 변수)**: 영향을 미칠 것으로 예상되는 변수 (x)\n",
        "* **종속 변수 (기준 변수)**: 영향을 받을 것으로 예상되는 변수 (y)\n",
        "\n",
        "   \n",
        "--------\n",
        " #### **로지스틱 회귀**\n",
        "* 분류 알고리즘으로, 데이터셋의 분류 결과에 대해 확신이 없거나 향후 추가 데이터셋이 투입될 수 있는 상황에서 사용됨\n",
        "* 개별 관측치들이 어느 집단에 분류될 수 있는지 분석하고 예측하는 모형으로, 일반적인 회귀 분석과는 차이가 있음\n",
        "\n",
        "|구분|일반적인 회귀 분석|로지스틱 회귀 분석|\n",
        "|------|---|---|\n",
        "|종속 변수|연속형 변수|이산형 변수|\n",
        "|모형 탐색 방법|최소제곱법|최대우도법|\n",
        "|모델 검정|F-테스트, t-테스트|X^2 테스트|\n",
        "\n",
        "-----------\n",
        "#### **최소제곱법과 최대우도법**\n",
        "최소제곱법(Mean Squared Error)는 일반 회귀 분석에서, 최대우도법(Maximum Likelihood)는 로지스틱 회귀분석에서 사용됨\n",
        "* 최소제곱법(MSE): 실제 값에서 예측 값을 뺀 후 제곱해서 구함 (=평균제곱오차)\n",
        "* 최대우도법: 가설마다 계산된 우도(가능도) 값 중 가장 큰 값을 선택\n",
        "> 수식: ~~\n",
        ">> 고정된 X, Y에 대해 모델에 X를 넣었을 때, 실제 값 Y에 가장 가까운 파라미터(theta)를 찾는 수식   \n",
        ">>> 2번 식은 언더플로 방지를 위해 우도에 로그를 취한 추정식"
      ]
    },
    {
      "cell_type": "code",
      "metadata": {
        "colab": {
          "base_uri": "https://localhost:8080/",
          "height": 0
        },
        "id": "NK5CaAgVp9--",
        "outputId": "6c3e704e-aac6-4136-805a-43d7d1b423e3"
      },
      "source": [
        "# 라이브러리 호출 및 데이터 준비\n",
        "%matplotlib inline\n",
        "from sklearn.datasets import load_digits\n",
        "digits = load_digits() # 사이킷런에서 제공\n",
        "\n",
        "print('Image Data Shape', digits.data.shape)\n",
        "print('Label Data Shape', digits.target.shape) # 1797개의 이미지 데이터, 8*8(=64) 차원의 데이터셋"
      ],
      "execution_count": 13,
      "outputs": [
        {
          "output_type": "stream",
          "text": [
            "Image Data Shape (1797, 64)\n",
            "Label Data Shape (1797,)\n"
          ],
          "name": "stdout"
        }
      ]
    },
    {
      "cell_type": "code",
      "metadata": {
        "colab": {
          "base_uri": "https://localhost:8080/",
          "height": 261
        },
        "id": "pTxbhU301i6t",
        "outputId": "0827ea6f-4e1a-47bb-a6c2-5096cc914722"
      },
      "source": [
        "# digits 데이터셋의 시각화\n",
        "import numpy as np\n",
        "import matplotlib.pyplot as plt\n",
        "\n",
        "plt.figure(figsize = (20, 4))\n",
        "# 예시로 이미지 5개만 확인\n",
        "# zip 함수는 두 요소를 엮어주는 역할\n",
        "for index, (image, label) in enumerate(zip(digits.data[0:5], digits.target[0:5])):\n",
        "    plt.subplot(1, 5, index+1)\n",
        "    plt.imshow(np.reshape(image, (8, 8)), cmap = plt.cm.gray)\n",
        "    plt.title('Training: %i/n' % label, fontsize = 20)"
      ],
      "execution_count": 15,
      "outputs": [
        {
          "output_type": "display_data",
          "data": {
            "image/png": "[encoded data removed]",
            "text/plain": [
              "<Figure size 1440x288 with 5 Axes>"
            ]
          },
          "metadata": {
            "tags": [],
            "needs_background": "light"
          }
        }
      ]
    },
    {
      "cell_type": "code",
      "metadata": {
        "colab": {
          "base_uri": "https://localhost:8080/",
          "height": 0
        },
        "id": "8xfYiLnF2asb",
        "outputId": "bf64cf9b-c071-44da-9117-114b944a782d"
      },
      "source": [
        "digits.target"
      ],
      "execution_count": 19,
      "outputs": [
        {
          "output_type": "execute_result",
          "data": {
            "text/plain": [
              "array([0, 1, 2, ..., 8, 9, 8])"
            ]
          },
          "metadata": {
            "tags": []
          },
          "execution_count": 19
        }
      ]
    },
    {
      "cell_type": "code",
      "metadata": {
        "colab": {
          "base_uri": "https://localhost:8080/",
          "height": 0
        },
        "id": "D3s8fxiP26KG",
        "outputId": "bfabd579-e029-42e7-fecc-55df619b5093"
      },
      "source": [
        "# 훈련과 검증 데이터셋 분리 및 로지스틱 회귀 모델 생성\n",
        "from sklearn.model_selection import train_test_split\n",
        "x_train, x_test, y_train, y_test = train_test_split(digits.data, digits.target,\n",
        "                                                    test_size = 0.25, random_state = 0)\n",
        "\n",
        "from sklearn.linear_model import LogisticRegression\n",
        "logisticRegr = LogisticRegression() # 로지스틱 회귀 모델의 인스턴스 생성\n",
        "logisticRegr.fit(x_train, y_train) # 훈련"
      ],
      "execution_count": 20,
      "outputs": [
        {
          "output_type": "stream",
          "text": [
            "/usr/local/lib/python3.7/dist-packages/sklearn/linear_model/_logistic.py:940: ConvergenceWarning: lbfgs failed to converge (status=1):\n",
            "STOP: TOTAL NO. of ITERATIONS REACHED LIMIT.\n",
            "\n",
            "Increase the number of iterations (max_iter) or scale the data as shown in:\n",
            "    https://scikit-learn.org/stable/modules/preprocessing.html\n",
            "Please also refer to the documentation for alternative solver options:\n",
            "    https://scikit-learn.org/stable/modules/linear_model.html#logistic-regression\n",
            "  extra_warning_msg=_LOGISTIC_SOLVER_CONVERGENCE_MSG)\n"
          ],
          "name": "stderr"
        },
        {
          "output_type": "execute_result",
          "data": {
            "text/plain": [
              "LogisticRegression(C=1.0, class_weight=None, dual=False, fit_intercept=True,\n",
              "                   intercept_scaling=1, l1_ratio=None, max_iter=100,\n",
              "                   multi_class='auto', n_jobs=None, penalty='l2',\n",
              "                   random_state=None, solver='lbfgs', tol=0.0001, verbose=0,\n",
              "                   warm_start=False)"
            ]
          },
          "metadata": {
            "tags": []
          },
          "execution_count": 20
        }
      ]
    },
    {
      "cell_type": "code",
      "metadata": {
        "colab": {
          "base_uri": "https://localhost:8080/",
          "height": 0
        },
        "id": "fdMd0WbU4lEi",
        "outputId": "390c2f18-c256-4a9f-bf0e-129489655db6"
      },
      "source": [
        "# 일부 데이터를 사용한 모델 예측\n",
        "logisticRegr.predict(x_test[0].reshape(1, -1))\n",
        "logisticRegr.predict(x_test[0:10]) # 10개의 이미지를 활용한 예측 결과"
      ],
      "execution_count": 22,
      "outputs": [
        {
          "output_type": "execute_result",
          "data": {
            "text/plain": [
              "array([2, 8, 2, 6, 6, 7, 1, 9, 8, 5])"
            ]
          },
          "metadata": {
            "tags": []
          },
          "execution_count": 22
        }
      ]
    },
    {
      "cell_type": "code",
      "metadata": {
        "colab": {
          "base_uri": "https://localhost:8080/",
          "height": 0
        },
        "id": "Zs5dxkw16TVe",
        "outputId": "3fe931a0-5a61-4275-a529-c5e0dc9fb6d6"
      },
      "source": [
        "# 전체 데이터를 사용한 모델 예측\n",
        "predictions = logisticRegr.predict(x_test)\n",
        "score = logisticRegr.score(x_test, y_test)\n",
        "print(score)"
      ],
      "execution_count": 23,
      "outputs": [
        {
          "output_type": "stream",
          "text": [
            "0.9511111111111111\n"
          ],
          "name": "stdout"
        }
      ]
    },
    {
      "cell_type": "code",
      "metadata": {
        "colab": {
          "base_uri": "https://localhost:8080/",
          "height": 526
        },
        "id": "TwnfPKOV6nI2",
        "outputId": "6ada7ec8-2119-4ef3-bc4d-1d14fc07e7dc"
      },
      "source": [
        "# 혼동 행렬 시각화\n",
        "import numpy as np\n",
        "import seaborn as sns\n",
        "from sklearn import metrics\n",
        "\n",
        "cm = metrics.confusion_matrix(y_test, predictions)\n",
        "plt.figure(figsize = (9, 9))\n",
        "sns.heatmap(cm, annot = True, fmt = '.3f', linewidths = .5, square = True, cmap = 'Blues_r');\n",
        "plt.ylabel('Actual label') # y축\n",
        "plt.xlabel('Predicted label') # x축\n",
        "all_sample_title = 'Accuracy Score: {0}'.format(score)\n",
        "plt.title(all_sample_title, size = 15);\n",
        "plt.show();"
      ],
      "execution_count": 26,
      "outputs": [
        {
          "output_type": "display_data",
          "data": {
            "image/png": "[encoded data removed]",
            "text/plain": [
              "<Figure size 648x648 with 2 Axes>"
            ]
          },
          "metadata": {
            "tags": [],
            "needs_background": "light"
          }
        }
      ]
    },
    {
      "cell_type": "markdown",
      "metadata": {
        "id": "j2_oZCJx8Tv2"
      },
      "source": [
        "실제 1~10의 숫자 (label)를 얼마나 정확하게 예측했는지는 혼동행렬의 대각성분을 통해 확인할 수 있음   \n",
        "> 혼동 행렬은 결과 확인용으로는 좋지만 직관적인 이해를 하기엔 난해함\n",
        "\n",
        "------------------\n",
        "#### **선형회귀**\n",
        "* 데이터 분류문제에 사용되는 알고리즘으로, 독립변수와 종속변수가 선형관계에 있을 때 유용함  \n",
        "* 복잡한 연산과정이 없어서 컴퓨팅 성능이 낮을 때 유용\n",
        "\n",
        "> 설명변수 하나로 예측하는 경우: 단순 선형 회귀, 설명변수 여러개로 예측하는 경우: 다중 선형 회귀\n",
        ">> 로지스틱 회귀는 S-curve를 출력하는데 반해, 일반 회귀는 직선식을 출력함 \n",
        ">>> 그림~~\n"
      ]
    },
    {
      "cell_type": "code",
      "metadata": {
        "id": "GfpLt2pz7-oF"
      },
      "source": [
        "# 라이브러리 호출\n",
        "import pandas as pd\n",
        "import numpy as np\n",
        "import matplotlib.pyplot as plt\n",
        "import seaborn as seabornInstance\n",
        "from sklearn.model_selection import train_test_split\n",
        "from sklearn.linear_model import LinearRegression\n",
        "from sklearn import metrics\n",
        "%matplotlib inline # 실행한 브라우저에서 바로 결과물을 확인할 수 있도록 함"
      ],
      "execution_count": 27,
      "outputs": []
    },
    {
      "cell_type": "code",
      "metadata": {
        "id": "eCmKM0ND-l1-"
      },
      "source": [
        "# weather.csv 파일 불러오기\n",
        "dataset = pd.read_csv('/content/drive/MyDrive/Colab Notebooks/chap3/data/weather.csv')"
      ],
      "execution_count": 28,
      "outputs": []
    },
    {
      "cell_type": "code",
      "metadata": {
        "colab": {
          "base_uri": "https://localhost:8080/",
          "height": 295
        },
        "id": "plEbo4If_Ckq",
        "outputId": "6635f1eb-89a0-477a-ec19-8257d0b04d17"
      },
      "source": [
        "# 데이터 간 관계를 시각화로 표현\n",
        "dataset.plot(x='MinTemp', y = 'MaxTemp', style ='o')\n",
        "plt.title('MinTemp vs MaxTemp')\n",
        "plt.xlabel('MinTemp')\n",
        "plt.ylabel('MaxTemp')\n",
        "plt.show()"
      ],
      "execution_count": 29,
      "outputs": [
        {
          "output_type": "display_data",
          "data": {
            "image/png": "[encoded data removed]",
            "text/plain": [
              "<Figure size 432x288 with 1 Axes>"
            ]
          },
          "metadata": {
            "tags": [],
            "needs_background": "light"
          }
        }
      ]
    },
    {
      "cell_type": "code",
      "metadata": {
        "colab": {
          "base_uri": "https://localhost:8080/",
          "height": 0
        },
        "id": "-69aqsbsA-fx",
        "outputId": "a6002980-e871-491a-c165-02b201a0b4b0"
      },
      "source": [
        "# 데이터를 독립 변수와 종속 변수로 분리하고 선형 회귀 모델 생성\n",
        "X = dataset['MinTemp'].values.reshape(-1, 1)\n",
        "y = dataset['MaxTemp'].values.reshape(-1, 1)\n",
        "X_train, X_test, y_train, y_test = train_test_split(X, y, test_size = 0.20)\n",
        "\n",
        "regressor = LinearRegression()\n",
        "regressor.fit(X_train, y_train)"
      ],
      "execution_count": 35,
      "outputs": [
        {
          "output_type": "execute_result",
          "data": {
            "text/plain": [
              "LinearRegression(copy_X=True, fit_intercept=True, n_jobs=None, normalize=False)"
            ]
          },
          "metadata": {
            "tags": []
          },
          "execution_count": 35
        }
      ]
    },
    {
      "cell_type": "code",
      "metadata": {
        "colab": {
          "base_uri": "https://localhost:8080/",
          "height": 419
        },
        "id": "OgEI4CrEBbqP",
        "outputId": "7d9d131a-3812-4202-f1da-c6a844937d97"
      },
      "source": [
        "# 회귀 모델에 대한 예측\n",
        "y_pred = regressor.predict(X_test)\n",
        "df = pd.DataFrame({'Actual': y_test.flatten(), 'Predicted': y_pred.flatten()}) # flatten은 여러 행렬의 함수를 하나의 행 or 열로 만들어주는 함수\n",
        "df"
      ],
      "execution_count": 38,
      "outputs": [
        {
          "output_type": "execute_result",
          "data": {
            "text/html": [
              "<div>\n",
              "<style scoped>\n",
              "    .dataframe tbody tr th:only-of-type {\n",
              "        vertical-align: middle;\n",
              "    }\n",
              "\n",
              "    .dataframe tbody tr th {\n",
              "        vertical-align: top;\n",
              "    }\n",
              "\n",
              "    .dataframe thead th {\n",
              "        text-align: right;\n",
              "    }\n",
              "</style>\n",
              "<table border=\"1\" class=\"dataframe\">\n",
              "  <thead>\n",
              "    <tr style=\"text-align: right;\">\n",
              "      <th></th>\n",
              "      <th>Actual</th>\n",
              "      <th>Predicted</th>\n",
              "    </tr>\n",
              "  </thead>\n",
              "  <tbody>\n",
              "    <tr>\n",
              "      <th>0</th>\n",
              "      <td>17.6</td>\n",
              "      <td>21.483389</td>\n",
              "    </tr>\n",
              "    <tr>\n",
              "      <th>1</th>\n",
              "      <td>12.8</td>\n",
              "      <td>16.359386</td>\n",
              "    </tr>\n",
              "    <tr>\n",
              "      <th>2</th>\n",
              "      <td>9.7</td>\n",
              "      <td>12.430984</td>\n",
              "    </tr>\n",
              "    <tr>\n",
              "      <th>3</th>\n",
              "      <td>28.5</td>\n",
              "      <td>21.483389</td>\n",
              "    </tr>\n",
              "    <tr>\n",
              "      <th>4</th>\n",
              "      <td>14.8</td>\n",
              "      <td>13.114185</td>\n",
              "    </tr>\n",
              "    <tr>\n",
              "      <th>...</th>\n",
              "      <td>...</td>\n",
              "      <td>...</td>\n",
              "    </tr>\n",
              "    <tr>\n",
              "      <th>69</th>\n",
              "      <td>15.0</td>\n",
              "      <td>17.298787</td>\n",
              "    </tr>\n",
              "    <tr>\n",
              "      <th>70</th>\n",
              "      <td>26.5</td>\n",
              "      <td>25.753392</td>\n",
              "    </tr>\n",
              "    <tr>\n",
              "      <th>71</th>\n",
              "      <td>15.1</td>\n",
              "      <td>21.056389</td>\n",
              "    </tr>\n",
              "    <tr>\n",
              "      <th>72</th>\n",
              "      <td>20.6</td>\n",
              "      <td>15.590786</td>\n",
              "    </tr>\n",
              "    <tr>\n",
              "      <th>73</th>\n",
              "      <td>33.2</td>\n",
              "      <td>29.681794</td>\n",
              "    </tr>\n",
              "  </tbody>\n",
              "</table>\n",
              "<p>74 rows × 2 columns</p>\n",
              "</div>"
            ],
            "text/plain": [
              "    Actual  Predicted\n",
              "0     17.6  21.483389\n",
              "1     12.8  16.359386\n",
              "2      9.7  12.430984\n",
              "3     28.5  21.483389\n",
              "4     14.8  13.114185\n",
              "..     ...        ...\n",
              "69    15.0  17.298787\n",
              "70    26.5  25.753392\n",
              "71    15.1  21.056389\n",
              "72    20.6  15.590786\n",
              "73    33.2  29.681794\n",
              "\n",
              "[74 rows x 2 columns]"
            ]
          },
          "metadata": {
            "tags": []
          },
          "execution_count": 38
        }
      ]
    },
    {
      "cell_type": "code",
      "metadata": {
        "colab": {
          "base_uri": "https://localhost:8080/",
          "height": 265
        },
        "id": "9xbZIaJqBw19",
        "outputId": "0eadd431-79c4-4982-df37-a484866cf851"
      },
      "source": [
        "# 검증된 데이터셋을 사용한 회귀선 표현\n",
        "plt.scatter(X_test, y_test, color = 'gray')\n",
        "plt.plot(X_test, y_pred, color = 'red', linewidth = 2)\n",
        "plt.show()"
      ],
      "execution_count": 39,
      "outputs": [
        {
          "output_type": "display_data",
          "data": {
            "image/png": "[encoded data removed]",
            "text/plain": [
              "<Figure size 432x288 with 1 Axes>"
            ]
          },
          "metadata": {
            "tags": [],
            "needs_background": "light"
          }
        }
      ]
    },
    {
      "cell_type": "markdown",
      "metadata": {
        "id": "8POO-y8xfBKy"
      },
      "source": [
        "실제 데이터와 비슷한 회귀선으로 도출됨"
      ]
    },
    {
      "cell_type": "code",
      "metadata": {
        "colab": {
          "base_uri": "https://localhost:8080/",
          "height": 0
        },
        "id": "zwNMrMt2DHLi",
        "outputId": "7c6844c1-824b-4465-b41d-4080372a037b"
      },
      "source": [
        "# 선형 회귀 모델 평가\n",
        "print('평균제곱법:', metrics.mean_squared_error(y_test, y_pred))\n",
        "print('루트 평균제곱법', np.sqrt(metrics.mean_squared_error(y_test, y_pred)))"
      ],
      "execution_count": 45,
      "outputs": [
        {
          "output_type": "stream",
          "text": [
            "평균제곱법: 20.124980699880336\n",
            "루트 평균제곱법 4.486087460123836\n"
          ],
          "name": "stdout"
        }
      ]
    },
    {
      "cell_type": "code",
      "metadata": {
        "id": "JMSRs8SODV2y"
      },
      "source": [
        ""
      ],
      "execution_count": null,
      "outputs": []
    }
  ]
}